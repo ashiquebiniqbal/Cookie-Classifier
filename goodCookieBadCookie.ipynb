{
 "cells": [
  {
   "cell_type": "code",
   "execution_count": 1,
   "id": "fc8e5da6",
   "metadata": {},
   "outputs": [],
   "source": [
    "from sklearn.neural_network import MLPClassifier\n",
    "import numpy as np"
   ]
  },
  {
   "cell_type": "code",
   "execution_count": 9,
   "id": "51ef1b3a",
   "metadata": {},
   "outputs": [],
   "source": [
    "# sweet, bitter, good(1) or bad(0)\n",
    "survey = np.array([\n",
    " [1, 0, 1],\n",
    " [1, 0, 1],\n",
    " [0, 1, 0],\n",
    " [1, 0, 1],\n",
    " [1, 0, 1],\n",
    " [0, 1, 0],\n",
    " [1, 0, 1],\n",
    " [0, 1, 0],\n",
    "])"
   ]
  },
  {
   "cell_type": "code",
   "execution_count": 10,
   "id": "e05db560",
   "metadata": {},
   "outputs": [],
   "source": [
    "features_train = survey[:, 0:2]\n",
    "labels_train = survey[:, 2]"
   ]
  },
  {
   "cell_type": "code",
   "execution_count": 11,
   "id": "6d654f98",
   "metadata": {},
   "outputs": [],
   "source": [
    "# Keeping four surveys as our test set\n",
    "test_survey = np.array([\n",
    " [1, 0, 1],\n",
    " [1, 0, 1],\n",
    " [0, 1, 0],\n",
    " [0, 1, 0],\n",
    "])\n",
    "features_test = test_survey[:, 0:2]\n",
    "labels_test = test_survey[:, 2]"
   ]
  },
  {
   "cell_type": "code",
   "execution_count": 12,
   "id": "e1422428",
   "metadata": {},
   "outputs": [],
   "source": [
    "# Define the model\n",
    "mlp = MLPClassifier(hidden_layer_sizes=(5),\n",
    "                   max_iter=3000, # epochs\n",
    "                  )"
   ]
  },
  {
   "cell_type": "code",
   "execution_count": 13,
   "id": "ca2e2e6a",
   "metadata": {},
   "outputs": [
    {
     "name": "stdout",
     "output_type": "stream",
     "text": [
      "Training set score: 100.000%\n",
      "Testing set score: 100.000%\n",
      "\n"
     ]
    }
   ],
   "source": [
    "# Train the model\n",
    "mlp.fit(features_train, labels_train)\n",
    "\n",
    "print(f\"Training set score: {mlp.score(features_train, labels_train):.3%}\")\n",
    "print(f\"Testing set score: {mlp.score(features_test, labels_test):.3%}\\n\")"
   ]
  },
  {
   "cell_type": "code",
   "execution_count": 14,
   "id": "12b3cac3",
   "metadata": {},
   "outputs": [
    {
     "name": "stdout",
     "output_type": "stream",
     "text": [
      "Type: Sweet cookie\n",
      "Good cookie!\n",
      "\n",
      "\n",
      "Type: Bitter cookie\n",
      "Bad cookie!\n",
      "\n",
      "\n"
     ]
    }
   ],
   "source": [
    "features_list=[\n",
    "    {\"features\": [[1, 0]], \"type\": \"Sweet cookie\"},\n",
    "    {\"features\": [[0, 1]], \"type\": \"Bitter cookie\"}\n",
    "]\n",
    "for item in features_list:\n",
    "    print(f\"Type: {item['type']}\")\n",
    "    if mlp.predict(item[\"features\"]) == 1:\n",
    "        print(\"Good cookie!\")\n",
    "    else:\n",
    "        print(\"Bad cookie!\")\n",
    "    print(\"\\n\")"
   ]
  },
  {
   "cell_type": "code",
   "execution_count": null,
   "id": "8d6ad171",
   "metadata": {},
   "outputs": [],
   "source": []
  }
 ],
 "metadata": {
  "kernelspec": {
   "display_name": "Python 3 (ipykernel)",
   "language": "python",
   "name": "python3"
  },
  "language_info": {
   "codemirror_mode": {
    "name": "ipython",
    "version": 3
   },
   "file_extension": ".py",
   "mimetype": "text/x-python",
   "name": "python",
   "nbconvert_exporter": "python",
   "pygments_lexer": "ipython3",
   "version": "3.8.10"
  }
 },
 "nbformat": 4,
 "nbformat_minor": 5
}
